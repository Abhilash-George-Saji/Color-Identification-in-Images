{
 "cells": [
  {
   "cell_type": "markdown",
   "source": [
    "GRADUATE ROTATIONAL INTERNSHIP PROGRAM @THE SPARKS FOUNDATION\r\n",
    "Author: Abhilash George Saji\r\n",
    "Task 2: Color Identification in Images\r\n",
    "Description: An image color detector which identifies all the colors in an image or video."
   ],
   "metadata": {}
  },
  {
   "cell_type": "markdown",
   "source": [
    "Importing packages"
   ],
   "metadata": {}
  },
  {
   "cell_type": "code",
   "execution_count": 16,
   "source": [
    "import cv2\r\n",
    "import pandas as pd"
   ],
   "outputs": [],
   "metadata": {}
  },
  {
   "cell_type": "markdown",
   "source": [
    "Reading image"
   ],
   "metadata": {}
  },
  {
   "cell_type": "code",
   "execution_count": 17,
   "source": [
    "img_path = r'D:\\Downloads\\coloured image.jpg'\r\n",
    "img = cv2.imread(img_path)"
   ],
   "outputs": [],
   "metadata": {}
  },
  {
   "cell_type": "markdown",
   "source": [
    "Declaring global variables"
   ],
   "metadata": {}
  },
  {
   "cell_type": "code",
   "execution_count": 18,
   "source": [
    "clicked = False\r\n",
    "r = g = b = x_pos = y_pos = 0"
   ],
   "outputs": [],
   "metadata": {}
  },
  {
   "cell_type": "markdown",
   "source": [
    "Reading csv file and giving names to each column"
   ],
   "metadata": {}
  },
  {
   "cell_type": "code",
   "execution_count": 19,
   "source": [
    "index = [\"color\", \"color_name\", \"hex\", \"R\", \"G\", \"B\"]\r\n",
    "csv = pd.read_csv(r'D:\\Desktop\\Sparks task 2\\colors.csv', names=index, header=None)"
   ],
   "outputs": [],
   "metadata": {}
  },
  {
   "cell_type": "markdown",
   "source": [
    "Function to calculate minimum distance from all colors and get the most matching color"
   ],
   "metadata": {}
  },
  {
   "cell_type": "code",
   "execution_count": 20,
   "source": [
    "def get_color_name(R, G, B):\r\n",
    "    minimum = 10000\r\n",
    "    for i in range(len(csv)):\r\n",
    "        d = abs(R - int(csv.loc[i, \"R\"])) + abs(G - int(csv.loc[i, \"G\"])) + abs(B - int(csv.loc[i, \"B\"]))\r\n",
    "        if d <= minimum:\r\n",
    "            minimum = d\r\n",
    "            cname = csv.loc[i, \"color_name\"]\r\n",
    "    return cname"
   ],
   "outputs": [],
   "metadata": {}
  },
  {
   "cell_type": "markdown",
   "source": [
    "Function to get x,y coordinates and r,g,b values on mouse double click"
   ],
   "metadata": {}
  },
  {
   "cell_type": "code",
   "execution_count": 21,
   "source": [
    "def draw_function(event, x, y, flags, param):\r\n",
    "    if event == cv2.EVENT_LBUTTONDBLCLK:\r\n",
    "        global b, g, r, x_pos, y_pos, clicked\r\n",
    "        clicked = True\r\n",
    "        x_pos = x\r\n",
    "        y_pos = y\r\n",
    "        b, g, r = img[y, x]\r\n",
    "        b = int(b)\r\n",
    "        g = int(g)\r\n",
    "        r = int(r)"
   ],
   "outputs": [],
   "metadata": {}
  },
  {
   "cell_type": "markdown",
   "source": [
    "Displaying image and detecting color on double click"
   ],
   "metadata": {}
  },
  {
   "cell_type": "code",
   "execution_count": 22,
   "source": [
    "cv2.namedWindow('image')\r\n",
    "cv2.setMouseCallback('image', draw_function)\r\n",
    "\r\n",
    "while True:\r\n",
    "\r\n",
    "    cv2.imshow(\"image\", img)\r\n",
    "    if clicked:\r\n",
    "        cv2.rectangle(img, (20, 20), (750, 60), (b, g, r), -1)\r\n",
    "        text = get_color_name(r, g, b) + ' R=' + str(r) + ' G=' + str(g) + ' B=' + str(b)\r\n",
    "        cv2.putText(img, text, (50, 50), 2, 0.8, (255, 255, 255), 2, cv2.LINE_AA)\r\n",
    "        # For very light colours,displays text in black colour\r\n",
    "        if r + g + b >= 600:\r\n",
    "            cv2.putText(img, text, (50, 50), 2, 0.8, (0, 0, 0), 2, cv2.LINE_AA)\r\n",
    "        clicked = False\r\n",
    "\r\n",
    "    # Break the loop when user hits 'esc' key\r\n",
    "    if cv2.waitKey(20) & 0xFF == 27:\r\n",
    "        break\r\n",
    "\r\n",
    "cv2.destroyAllWindows()\r\n"
   ],
   "outputs": [],
   "metadata": {}
  }
 ],
 "metadata": {
  "orig_nbformat": 4,
  "language_info": {
   "name": "python",
   "version": "3.8.7",
   "mimetype": "text/x-python",
   "codemirror_mode": {
    "name": "ipython",
    "version": 3
   },
   "pygments_lexer": "ipython3",
   "nbconvert_exporter": "python",
   "file_extension": ".py"
  },
  "kernelspec": {
   "name": "python3",
   "display_name": "Python 3.8.7 64-bit"
  },
  "interpreter": {
   "hash": "c682975a15cc46eb84a1c411887827fe3020c433add8313a5f8bbc1b9e95b046"
  }
 },
 "nbformat": 4,
 "nbformat_minor": 2
}